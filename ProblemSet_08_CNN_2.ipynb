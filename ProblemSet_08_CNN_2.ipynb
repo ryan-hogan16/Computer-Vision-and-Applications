{
  "nbformat": 4,
  "nbformat_minor": 0,
  "metadata": {
    "colab": {
      "name": "ProblemSet_08_CNN-2.ipynb",
      "provenance": [],
      "collapsed_sections": [],
      "toc_visible": true
    },
    "kernelspec": {
      "display_name": "Python 3",
      "language": "python",
      "name": "python3"
    },
    "language_info": {
      "codemirror_mode": {
        "name": "ipython",
        "version": 3
      },
      "file_extension": ".py",
      "mimetype": "text/x-python",
      "name": "python",
      "nbconvert_exporter": "python",
      "pygments_lexer": "ipython3",
      "version": "3.8.3"
    }
  },
  "cells": [
    {
      "cell_type": "markdown",
      "metadata": {
        "id": "SoKGHVI2gK_E"
      },
      "source": [
        "This notebook is part the of Dr. Christoforos Christoforou's course materials. You may not, nor may you knowingly allow others to reproduce or distribute lecture notes, course materials or any of their derivatives without the instructor's express written consent."
      ]
    },
    {
      "cell_type": "code",
      "metadata": {
        "id": "TjBbvzidgTcG"
      },
      "source": [
        "# Setting up the environment  \n",
        "import tensorflow.keras \n",
        "from tensorflow.keras.callbacks import EarlyStopping \n",
        "from tensorflow.keras.layers import Dense, Dropout\n",
        "from tensorflow.keras.datasets import mnist \n",
        "from tensorflow.keras import backend\n",
        "\n",
        "%matplotlib inline \n",
        "import matplotlib.pyplot as plt\n",
        "import numpy as np \n",
        "import pandas as pd"
      ],
      "execution_count": 6,
      "outputs": []
    },
    {
      "cell_type": "markdown",
      "metadata": {
        "id": "xrGdpknfhmeZ"
      },
      "source": [
        "## Exercise 1: Load and preprocess the dataset.\n",
        "\n",
        "**Task 1: Load the MNIST dataset**: In the cell below, load the MNIST dataset, and standardize the dataset by applying the following pre-processing steps:\n",
        "\n",
        "- Reshape the data array to `channels_last` (i.e. `(obs,row,cols,color)`).\n",
        "- Convert the data array to `float32`.\n",
        "- Normalize data array (i.e. divide by 255)\n",
        "- Convert labels to categorical variables (i.e. one-hot encoding) using the `tensorflow.keras.utils.to_categorical(y_train)`.\n",
        "\n",
        "At the completion of this step you should have the following variables:\n",
        "Shape X_train : (60000, 28, 28, 1)\n",
        "Shape y_train : (60000, 10)\n",
        "Shape X_test : (10000, 28, 28, 1)\n",
        "Shape y_test : (10000, 10)\n",
        "\n",
        "* `X_train`,`X_test`: 4D array of shape (60000, 28, 28, 1) and (10000, 28, 28, 1) respectively, that stores the standardized MNIST data.\n",
        "* `y_train` and `y_test`: 2D array of shape (60000, 10) and (10000, 10) which uses one-hot-encoding for the labels in the MNIST dataset.\n",
        "\n",
        "\n"
      ]
    },
    {
      "cell_type": "code",
      "metadata": {
        "id": "RZBcDWg6gn5r",
        "outputId": "d17effb0-47c7-4ab9-87bb-ce43b4506390",
        "colab": {
          "base_uri": "https://localhost:8080/",
          "height": 52
        }
      },
      "source": [
        "# Setting up the environment  \n",
        "import tensorflow.keras \n",
        "from tensorflow.keras.callbacks import EarlyStopping \n",
        "from tensorflow.keras.layers import Dense, Dropout\n",
        "from tensorflow.keras.datasets import mnist \n",
        "from tensorflow.keras import backend\n",
        "\n",
        "%matplotlib inline \n",
        "import matplotlib.pyplot as plt\n",
        "import numpy as np \n",
        "import pandas as pd\n",
        "\n",
        "(X_train, y_train),(X_test, y_test) = tensorflow.keras.datasets.mnist.load_data()\n",
        "\n",
        "(Nobs_train, n_rows, n_cols) = X_train.shape\n",
        "\n",
        "X_train = X_train.reshape(Nobs_train,n_rows,n_cols,1).astype('float32')/255\n",
        "\n",
        "y_train = tensorflow.keras.utils.to_categorical(y_train)"
      ],
      "execution_count": 9,
      "outputs": [
        {
          "output_type": "stream",
          "text": [
            "Downloading data from https://storage.googleapis.com/tensorflow/tf-keras-datasets/mnist.npz\n",
            "11493376/11490434 [==============================] - 0s 0us/step\n"
          ],
          "name": "stdout"
        }
      ]
    },
    {
      "cell_type": "markdown",
      "metadata": {
        "id": "UUjRUwoDmeFy"
      },
      "source": [
        "## Exercise 2:Building a Convolutional Neural Network using high-level Keras API\n",
        "\n",
        "In this introductory example, we will build a convolutional neural network using high-level Keras API. For that, you will need several objects provided by the API;which include the `Sequential` model which is defined under the module `tensorflow.keras.models`, and four computational layers that are defined under the `tensorflow.keras.layers module`. These layers include \n",
        "\n",
        "* the `Conv2D` layer which implement the convolutional layer;\n",
        "* the `MaxPool2D` layer which implements the max pooling operation;\n",
        "* the `Flatten` layer and the `Dense` layer\n",
        "\n",
        "These libraries have been imported at the beginning of the notebook, but to make this section self-contained, we re-import them in the cell below.\n"
      ]
    },
    {
      "cell_type": "code",
      "metadata": {
        "id": "XgZqFARQrLVu"
      },
      "source": [
        "import tensorflow.keras \n",
        "from tensorflow.keras.models import Sequential \n",
        "from tensorflow.keras.layers import Dense, Flatten, Conv2D, MaxPool2D, Dropout\n",
        "import time"
      ],
      "execution_count": 10,
      "outputs": []
    },
    {
      "cell_type": "markdown",
      "metadata": {
        "id": "5o1pmE4UrNT8"
      },
      "source": [
        "**Defining a CNN Architecture**\n",
        "\n",
        "We can define the convolutional neural network architecture using the keras API. First, we define a general `Sequential` model and then `add` to it the various computational layer.\n",
        "\n",
        "**Convolutional layer:** The first layer of the model will be a convolutional layer defined by the `Conv2D` layer in keras. The `Conv2D` layer takes several parameters, but in this example, we will focus on the two required parameters; these are the `filters` and the `kernel_size`. The `filters` argument is an integer that specifies the number of filters (i.e. kernels) to use used during the cross-correlation (we can think of this parameter as the size of the filter bank we want to use). The `kernel_size` parameters, is a tuple that specifies the kernel size to use. For example, the code `Conv2D(filters=32, kernel_size=(3,3))` specifies a convolutional layer that uses 32 filters/kernels, and each kernel is of size 3x3. Typically, when we define a convolutional layer on the input data, we must specify the `input_shape` parameter, which is a tuple which stores the dimension of the input tensor. For example, if our input image is of shape `(28,28,1)`, as it is the case for the MNIST dataset, we can specify that when we define the first `Conv2D` layer in our network, using the syntax `Conv2D(filters=32, kernel_size=(3,3), input_shape=(28,28,1))`. The input shape parameter is authomatically set of subsequent layers in our network.\n",
        "\n",
        "**MaxPooling layer:**After adding a convolutional layer, we can typically apply a `MaxPool` layer, to reduce the spatial resolution of the output tensor. The `MaxPool` layer takes as input the `pool_size=(2,2)`.\n",
        "\n",
        "After we specify the convolutional and max-pooling layer in our architecture, we can then append the necessary dense layer to perform prediction task. The following code illustrates how to define a simple CNN architecture using the above layers.\n",
        "\n",
        "```python\n",
        "model= Sequential() \n",
        "\n",
        "input_shape = X_train[0].shape\n",
        "\n",
        "# 32: number of filters, (3,3): kernel_size, input_shape (28,28,1) \n",
        "# Output:  #epoch x 26 x 26 x filters ; convolutions reduces image size by kernal-size-1\n",
        "# #params 3*3*32= 280 + 32 biases. \n",
        "model.add(Conv2D(32,(3,3),activation='relu',input_shape=input_shape))\n",
        "\n",
        "# MaxPool2D Layer -> \n",
        "# Output : epoch x 13 x 13 x #fitlers\n",
        "model.add(MaxPool2D(pool_size=(2,2)))\n",
        "\n",
        "# Dropout Layer Output epoch x 13 x 13 x #fitlers\n",
        "model.add(Dropout(0.5))\n",
        "\n",
        "# parameters : 3*3*32*64=18432 for W, plus 64 biases =  18496 \n",
        "model.add(Conv2D(64,(3,3),activation='relu'))\n",
        " \n",
        "model.add(MaxPool2D(pool_size=(2,2)))\n",
        "model.add(Dropout(0.5))\n",
        "\n",
        "\n",
        "# Flatten tensor epoch x 5408; (13*13*32-filters)\n",
        "model.add(Flatten())\n",
        "\n",
        "# Dense Layer Output : epoch x 32\n",
        "model.add(Dense(32,activation='relu'))\n",
        "\n",
        "# Dropout layer epoch x 32 \n",
        "model.add(Dropout(0.5))\n",
        "\n",
        "# Dense layer : expoch x 10 \n",
        "model.add(Dense(10,activation='softmax'))\n",
        "\n",
        "\n",
        "```\n",
        "\n",
        "\n",
        "**Task 2.1** In the cell below, define the neural network architecture specified in the section above."
      ]
    },
    {
      "cell_type": "code",
      "metadata": {
        "id": "l2Layyeyv4cy"
      },
      "source": [
        "# Implement Task 2.1 \n",
        "model= Sequential() \n",
        "\n",
        "input_shape = X_train[0].shape\n",
        "\n",
        "# 32: number of filters, (3,3): kernel_size, input_shape (28,28,1) \n",
        "# Output:  #epoch x 26 x 26 x filters ; convolutions reduces image size by kernal-size-1\n",
        "# #params 3*3*32= 280 + 32 biases. \n",
        "model.add(Conv2D(32,(3,3),activation='relu',input_shape=input_shape))\n",
        "\n",
        "# MaxPool2D Layer -> \n",
        "# Output : epoch x 13 x 13 x #fitlers\n",
        "model.add(MaxPool2D(pool_size=(2,2)))\n",
        "\n",
        "# Dropout Layer Output epoch x 13 x 13 x #fitlers\n",
        "model.add(Dropout(0.5))\n",
        "\n",
        "# parameters : 3*3*32*64=18432 for W, plus 64 biases =  18496 \n",
        "model.add(Conv2D(64,(3,3),activation='relu'))\n",
        "\n",
        "model.add(MaxPool2D(pool_size=(2,2)))\n",
        "model.add(Dropout(0.5))\n",
        "\n",
        "\n",
        "# Flatten tensor epoch x 5408; (13*13*32-filters)\n",
        "model.add(Flatten())\n",
        "\n",
        "# Dense Layer Output : epoch x 32\n",
        "model.add(Dense(32,activation='relu'))\n",
        "\n",
        "# Dropout layer epoch x 32 \n",
        "model.add(Dropout(0.5))\n",
        "\n",
        "# Dense layer : expoch x 10 \n",
        "model.add(Dense(10,activation='softmax'))\n"
      ],
      "execution_count": 11,
      "outputs": []
    },
    {
      "cell_type": "markdown",
      "metadata": {
        "id": "hZ_EZE3bwCDW"
      },
      "source": [
        "**Compile the Neural Network Architecture**\n",
        "Once we define the model, we need to compile it using the `model.compile` method of the API. We can train the compiled model  by calling the `model.fit` method of the API. Once we have a trained model, we can evaluate its performance on a test set by using `model.evaluate` method and apply the model to make prediction on new unseen data using the `model.predict` method.\n",
        "\n",
        "**Task 2.2:** Compile the Neural Network Architecture you defined in task 2.1\n",
        "\n",
        "**Task 2.3** Train the model by calling the `model.fit` method\n",
        "\n",
        "**Task 2.4:** Evaluate the model you trained in task 2.3 and report its accuracy and loss.\n",
        "\n",
        "**Task 2.5** Apply the model you trained in task 2.4 on the test set and report its performance. Moreover, identify the first three instances the model misclassifies and display their image; indicating in the title the predicted value.\n",
        "\n",
        "Use the cells below to complete these tasks \n"
      ]
    },
    {
      "cell_type": "code",
      "metadata": {
        "id": "U7zDxn-wxXZ_"
      },
      "source": [
        "#\n",
        "# Complete task 2.2 here.\n",
        "#\n",
        "history = model.compile(optimizer='adam',\n",
        "             loss = 'categorical_crossentropy',\n",
        "             metrics = 'accuracy')\n"
      ],
      "execution_count": 12,
      "outputs": []
    },
    {
      "cell_type": "code",
      "metadata": {
        "id": "0FNTCJF70rkB",
        "outputId": "fa5ef3a4-0d8d-49fa-a4f9-f8ce16f133c1",
        "colab": {
          "base_uri": "https://localhost:8080/",
          "height": 212
        }
      },
      "source": [
        "#\n",
        "# Complete task 2.3 here.\n",
        "#\n",
        "model.fit(X_train, y_train, epochs = 5)"
      ],
      "execution_count": null,
      "outputs": [
        {
          "output_type": "stream",
          "text": [
            "Epoch 1/5\n",
            "1875/1875 [==============================] - 58s 31ms/step - loss: 0.2320 - accuracy: 0.9243\n",
            "Epoch 2/5\n",
            "1875/1875 [==============================] - 58s 31ms/step - loss: 0.2219 - accuracy: 0.9283\n",
            "Epoch 3/5\n",
            "1875/1875 [==============================] - 59s 31ms/step - loss: 0.2111 - accuracy: 0.9322\n",
            "Epoch 4/5\n",
            "1875/1875 [==============================] - 58s 31ms/step - loss: 0.2036 - accuracy: 0.9334\n",
            "Epoch 5/5\n",
            "1875/1875 [==============================] - 58s 31ms/step - loss: 0.1937 - accuracy: 0.9369\n"
          ],
          "name": "stdout"
        },
        {
          "output_type": "execute_result",
          "data": {
            "text/plain": [
              "<tensorflow.python.keras.callbacks.History at 0x7f22a5923f60>"
            ]
          },
          "metadata": {
            "tags": []
          },
          "execution_count": 47
        }
      ]
    },
    {
      "cell_type": "code",
      "metadata": {
        "id": "cgfqOlUW0tc9",
        "outputId": "adc44bd1-d858-45b8-a6c0-6e4c60d7c030",
        "colab": {
          "base_uri": "https://localhost:8080/",
          "height": 158
        }
      },
      "source": [
        "#\n",
        "# Complete task 2.4 here.\n",
        "#\n",
        "\n",
        "prob_model = tensorflow.keras.Sequential([model, \n",
        "                                         tensorflow.keras.layers.Softmax()])\n",
        "predictions = prob_model.predict(X_train)\n",
        "print(predictions)\n",
        "test_loss, test_acc = model.evaluate(X_train,  y_train, verbose=2)"
      ],
      "execution_count": 13,
      "outputs": [
        {
          "output_type": "stream",
          "text": [
            "[[0.10088819 0.10058796 0.09952245 ... 0.10056029 0.10068982 0.09955645]\n",
            " [0.09993362 0.1010287  0.09899915 ... 0.10050362 0.10084172 0.09893003]\n",
            " [0.09945541 0.10069453 0.09915567 ... 0.10063115 0.10133992 0.09909166]\n",
            " ...\n",
            " [0.10033536 0.10046516 0.0991651  ... 0.10098004 0.10132959 0.0996418 ]\n",
            " [0.1000993  0.10051004 0.09950419 ... 0.10030561 0.10089555 0.09902417]\n",
            " [0.09979905 0.10057898 0.09913067 ... 0.10069012 0.10126793 0.09935408]]\n",
            "1875/1875 - 15s - loss: 2.3053 - accuracy: 0.0772\n"
          ],
          "name": "stdout"
        }
      ]
    },
    {
      "cell_type": "code",
      "metadata": {
        "id": "nYV3mU-V0v6w",
        "outputId": "097aa428-a265-43bc-9efb-e616fa826753",
        "colab": {
          "base_uri": "https://localhost:8080/",
          "height": 34
        }
      },
      "source": [
        "#\n",
        "# Complete task 2.5 here.\n",
        "from sklearn.metrics import classification_report\n",
        "test_loss, test_acc = model.evaluate(X_train,  y_train, verbose=2)\n"
      ],
      "execution_count": 14,
      "outputs": [
        {
          "output_type": "stream",
          "text": [
            "1875/1875 - 16s - loss: 2.3053 - accuracy: 0.0772\n"
          ],
          "name": "stdout"
        }
      ]
    },
    {
      "cell_type": "markdown",
      "metadata": {
        "id": "D9dyeGY_00c8"
      },
      "source": [
        "## Exercise 3 Loading your own dataset. \n",
        "\n",
        "The code below illustrates how to download a remote dataset, and unzip it. As an example, we use the Cats and Dogs dataset provided by Microsoft and is available at this url https://www.microsoft.com/en-us/download/confirmation.aspx?id=54765  (direct link: https://download.microsoft.com/download/3/E/1/3E1C3F21-ECDB-4869-8368-6DEBA77B919F/kagglecatsanddogs_3367a.zip) \n",
        "\n",
        "You can download the dataset using the `wget` command; and unzip it using the `uzip` command. The code below illustrates how to do this\n",
        "\n"
      ]
    },
    {
      "cell_type": "code",
      "metadata": {
        "id": "HlmaFfrg2km6",
        "outputId": "a95d9522-82ef-49bd-9729-273b6d255896",
        "colab": {
          "base_uri": "https://localhost:8080/",
          "height": 212
        }
      },
      "source": [
        "!wget -O /content/sample_data/CatsAndDogs.zip https://download.microsoft.com/download/3/E/1/3E1C3F21-ECDB-4869-8368-6DEBA77B919F/kagglecatsanddogs_3367a.zip"
      ],
      "execution_count": 15,
      "outputs": [
        {
          "output_type": "stream",
          "text": [
            "--2020-10-21 00:26:53--  https://download.microsoft.com/download/3/E/1/3E1C3F21-ECDB-4869-8368-6DEBA77B919F/kagglecatsanddogs_3367a.zip\n",
            "Resolving download.microsoft.com (download.microsoft.com)... 23.34.168.144, 2600:1403:8c00:1a7::e59, 2600:1403:8c00:190::e59, ...\n",
            "Connecting to download.microsoft.com (download.microsoft.com)|23.34.168.144|:443... connected.\n",
            "HTTP request sent, awaiting response... 200 OK\n",
            "Length: 824894548 (787M) [application/octet-stream]\n",
            "Saving to: ‘/content/sample_data/CatsAndDogs.zip’\n",
            "\n",
            "/content/sample_dat 100%[===================>] 786.68M   103MB/s    in 9.1s    \n",
            "\n",
            "2020-10-21 00:27:03 (86.8 MB/s) - ‘/content/sample_data/CatsAndDogs.zip’ saved [824894548/824894548]\n",
            "\n"
          ],
          "name": "stdout"
        }
      ]
    },
    {
      "cell_type": "code",
      "metadata": {
        "id": "dazhBQh32vFI"
      },
      "source": [
        "!unzip /content/sample_data/CatsAndDogs.zip"
      ],
      "execution_count": null,
      "outputs": []
    },
    {
      "cell_type": "markdown",
      "metadata": {
        "id": "tb0JCIET20Wr"
      },
      "source": [
        "To preprocess the dataset, we need the following libraries. "
      ]
    },
    {
      "cell_type": "code",
      "metadata": {
        "id": "uIq5j_kL042W"
      },
      "source": [
        "from skimage import io\n",
        "import os\n",
        "import numpy as np \n",
        "from sklearn.model_selection import train_test_split\n",
        "import matplotlib.pyplot as plt"
      ],
      "execution_count": 17,
      "outputs": []
    },
    {
      "cell_type": "markdown",
      "metadata": {
        "id": "pItHfWjN25kf"
      },
      "source": [
        "A basic pre-processing step we need to apply in new image datasets is to resize them and normalize them. As part of this example, we will pre-process the image by cropping each image to a square; resize it to a requested size; and normalize each image. The function `standarize_image` below does exactly that. You will use this function to pre-process the dataset."
      ]
    },
    {
      "cell_type": "code",
      "metadata": {
        "id": "rH5QrR7d1Lpu"
      },
      "source": [
        "# Takes as input an image-array, resizes the image, and normalizes it. \n",
        "def standarize_image(img_array,resize_pixels=256): \n",
        "  # Convert array to image; \n",
        "  img = Image.fromarray(img_array)\n",
        "\n",
        "  # Convert image into a square image.\n",
        "  cols, rows = img.size\n",
        "  extra = (rows-cols)/2\n",
        "\n",
        "  if (extra>0):  \n",
        "    # more rows than columns, crop rows\n",
        "    crop_box = (0,extra,cols,cols+extra)\n",
        "  else:\n",
        "    # more cols than rows, crop cols\n",
        "    crop_box = (-extra,0,rows-extra,rows) \n",
        "\n",
        "  # Crop image into a square and resize image based on resize_pixels\n",
        "  standarized_image = img.crop(crop_box).resize((resize_pixels,resize_pixels), Image.ANTIALIAS)\n",
        "\n",
        "  # conver image to vector convert type to float; normalize values between -1 and 1. \n",
        "  standarized_image_vector = (np.asarray(standarized_image).flatten().astype(np.float32)-128)/128 \n",
        "\n",
        "  standarized_image_tensor = (np.asarray(standarized_image).astype(np.float32)-128)/128 \n",
        "\n",
        "  return standarized_image_tensor, standarized_image_vector, standarized_image\n"
      ],
      "execution_count": 18,
      "outputs": []
    },
    {
      "cell_type": "markdown",
      "metadata": {
        "id": "DsFuO7yL3fSd"
      },
      "source": [
        "**Load and pre-process the dataset**\n",
        "The code below illustrates how to load the dataset. \n",
        "```python\n",
        "# Go over the entire dataset and convert it into a single files. \n",
        "x_all = []\n",
        "y_all = []\n",
        "\n",
        "Categories = [\"Cat\",\"Dog\"]\n",
        "sample_size = 100\n",
        "\n",
        "for category in Categories:     # do dogs and cats\n",
        "    class_num = Categories.index(category)\n",
        "    path = os.path.join(data_root_folder,category)  # create path to dogs and cats\n",
        "   \n",
        "    image_list = os.listdir(path)\n",
        "    image_list = image_list[0:sample_size]\n",
        "    for img in image_list:  # iterate over each image per dogs and cats\n",
        "      img_array = io.imread(image)  \n",
        "      (img_tensor,_,img) = standarize_image(img_array,32)\n",
        "    \n",
        "      x_all.append(img_tensor)\n",
        "      y_all.append(class_num)\n",
        "\n",
        "# Convert the list to a 4D array \n",
        "x_all = np.array(x_all)\n",
        "y_all = np.array(y_all) \n",
        "```\n",
        "**Task 3.1** Reproduce the code above, but change it so that it returns a sample of 4000 images (2000 for each class) of size 64 by 64 pixels each.  "
      ]
    },
    {
      "cell_type": "code",
      "metadata": {
        "id": "J7oPavDd35KU",
        "outputId": "583eea2b-d8fa-4c1e-d9ae-df8d5ca29c35",
        "colab": {
          "base_uri": "https://localhost:8080/",
          "height": 387
        }
      },
      "source": [
        "# Implement task 3.1 \n",
        "\n",
        "x_all = []\n",
        "y_all = []\n",
        "\n",
        "Categories = [\"Cat\", \"Dog\"]\n",
        "sample_size = 4000\n",
        "\n",
        "for category in Categories:\n",
        "  class_num = Categories.index(category)\n",
        "  path = os.path.join('/content/PetImages', category)\n",
        "  image_list = os.listdir(path)\n",
        "  image_list = image_list[0:sample_size]\n",
        "\n",
        "  for img in image_list:\n",
        "      img_array = io.imread(img)\n",
        "      (img_tensor, _, img) = standarize_image(img_array,64)\n",
        "\n",
        "      x_all.append(img_tensor)\n",
        "      y_all.append(class_num)\n",
        "        \n",
        "\n",
        "x_all = np.array(x_all)\n",
        "y_all = np.array(y_all)\n",
        "\n"
      ],
      "execution_count": 68,
      "outputs": [
        {
          "output_type": "error",
          "ename": "FileNotFoundError",
          "evalue": "ignored",
          "traceback": [
            "\u001b[0;31m---------------------------------------------------------------------------\u001b[0m",
            "\u001b[0;31mFileNotFoundError\u001b[0m                         Traceback (most recent call last)",
            "\u001b[0;32m<ipython-input-68-eae4099f821d>\u001b[0m in \u001b[0;36m<module>\u001b[0;34m()\u001b[0m\n\u001b[1;32m     14\u001b[0m \u001b[0;34m\u001b[0m\u001b[0m\n\u001b[1;32m     15\u001b[0m   \u001b[0;32mfor\u001b[0m \u001b[0mimg\u001b[0m \u001b[0;32min\u001b[0m \u001b[0mimage_list\u001b[0m\u001b[0;34m:\u001b[0m\u001b[0;34m\u001b[0m\u001b[0;34m\u001b[0m\u001b[0m\n\u001b[0;32m---> 16\u001b[0;31m       \u001b[0mimg_array\u001b[0m \u001b[0;34m=\u001b[0m \u001b[0mio\u001b[0m\u001b[0;34m.\u001b[0m\u001b[0mimread\u001b[0m\u001b[0;34m(\u001b[0m\u001b[0mimg\u001b[0m\u001b[0;34m)\u001b[0m\u001b[0;34m\u001b[0m\u001b[0;34m\u001b[0m\u001b[0m\n\u001b[0m\u001b[1;32m     17\u001b[0m       \u001b[0;34m(\u001b[0m\u001b[0mimg_tensor\u001b[0m\u001b[0;34m,\u001b[0m \u001b[0m_\u001b[0m\u001b[0;34m,\u001b[0m \u001b[0mimg\u001b[0m\u001b[0;34m)\u001b[0m \u001b[0;34m=\u001b[0m \u001b[0mstandarize_image\u001b[0m\u001b[0;34m(\u001b[0m\u001b[0mimg_array\u001b[0m\u001b[0;34m,\u001b[0m\u001b[0;36m64\u001b[0m\u001b[0;34m)\u001b[0m\u001b[0;34m\u001b[0m\u001b[0;34m\u001b[0m\u001b[0m\n\u001b[1;32m     18\u001b[0m \u001b[0;34m\u001b[0m\u001b[0m\n",
            "\u001b[0;32m/usr/local/lib/python3.6/dist-packages/skimage/io/_io.py\u001b[0m in \u001b[0;36mimread\u001b[0;34m(fname, as_gray, plugin, **plugin_args)\u001b[0m\n\u001b[1;32m     46\u001b[0m \u001b[0;34m\u001b[0m\u001b[0m\n\u001b[1;32m     47\u001b[0m     \u001b[0;32mwith\u001b[0m \u001b[0mfile_or_url_context\u001b[0m\u001b[0;34m(\u001b[0m\u001b[0mfname\u001b[0m\u001b[0;34m)\u001b[0m \u001b[0;32mas\u001b[0m \u001b[0mfname\u001b[0m\u001b[0;34m:\u001b[0m\u001b[0;34m\u001b[0m\u001b[0;34m\u001b[0m\u001b[0m\n\u001b[0;32m---> 48\u001b[0;31m         \u001b[0mimg\u001b[0m \u001b[0;34m=\u001b[0m \u001b[0mcall_plugin\u001b[0m\u001b[0;34m(\u001b[0m\u001b[0;34m'imread'\u001b[0m\u001b[0;34m,\u001b[0m \u001b[0mfname\u001b[0m\u001b[0;34m,\u001b[0m \u001b[0mplugin\u001b[0m\u001b[0;34m=\u001b[0m\u001b[0mplugin\u001b[0m\u001b[0;34m,\u001b[0m \u001b[0;34m**\u001b[0m\u001b[0mplugin_args\u001b[0m\u001b[0;34m)\u001b[0m\u001b[0;34m\u001b[0m\u001b[0;34m\u001b[0m\u001b[0m\n\u001b[0m\u001b[1;32m     49\u001b[0m \u001b[0;34m\u001b[0m\u001b[0m\n\u001b[1;32m     50\u001b[0m     \u001b[0;32mif\u001b[0m \u001b[0;32mnot\u001b[0m \u001b[0mhasattr\u001b[0m\u001b[0;34m(\u001b[0m\u001b[0mimg\u001b[0m\u001b[0;34m,\u001b[0m \u001b[0;34m'ndim'\u001b[0m\u001b[0;34m)\u001b[0m\u001b[0;34m:\u001b[0m\u001b[0;34m\u001b[0m\u001b[0;34m\u001b[0m\u001b[0m\n",
            "\u001b[0;32m/usr/local/lib/python3.6/dist-packages/skimage/io/manage_plugins.py\u001b[0m in \u001b[0;36mcall_plugin\u001b[0;34m(kind, *args, **kwargs)\u001b[0m\n\u001b[1;32m    208\u001b[0m                                (plugin, kind))\n\u001b[1;32m    209\u001b[0m \u001b[0;34m\u001b[0m\u001b[0m\n\u001b[0;32m--> 210\u001b[0;31m     \u001b[0;32mreturn\u001b[0m \u001b[0mfunc\u001b[0m\u001b[0;34m(\u001b[0m\u001b[0;34m*\u001b[0m\u001b[0margs\u001b[0m\u001b[0;34m,\u001b[0m \u001b[0;34m**\u001b[0m\u001b[0mkwargs\u001b[0m\u001b[0;34m)\u001b[0m\u001b[0;34m\u001b[0m\u001b[0;34m\u001b[0m\u001b[0m\n\u001b[0m\u001b[1;32m    211\u001b[0m \u001b[0;34m\u001b[0m\u001b[0m\n\u001b[1;32m    212\u001b[0m \u001b[0;34m\u001b[0m\u001b[0m\n",
            "\u001b[0;32m/usr/local/lib/python3.6/dist-packages/skimage/io/_plugins/imageio_plugin.py\u001b[0m in \u001b[0;36mimread\u001b[0;34m(*args, **kwargs)\u001b[0m\n\u001b[1;32m      8\u001b[0m \u001b[0;34m@\u001b[0m\u001b[0mwraps\u001b[0m\u001b[0;34m(\u001b[0m\u001b[0mimageio_imread\u001b[0m\u001b[0;34m)\u001b[0m\u001b[0;34m\u001b[0m\u001b[0;34m\u001b[0m\u001b[0m\n\u001b[1;32m      9\u001b[0m \u001b[0;32mdef\u001b[0m \u001b[0mimread\u001b[0m\u001b[0;34m(\u001b[0m\u001b[0;34m*\u001b[0m\u001b[0margs\u001b[0m\u001b[0;34m,\u001b[0m \u001b[0;34m**\u001b[0m\u001b[0mkwargs\u001b[0m\u001b[0;34m)\u001b[0m\u001b[0;34m:\u001b[0m\u001b[0;34m\u001b[0m\u001b[0;34m\u001b[0m\u001b[0m\n\u001b[0;32m---> 10\u001b[0;31m     \u001b[0;32mreturn\u001b[0m \u001b[0mnp\u001b[0m\u001b[0;34m.\u001b[0m\u001b[0masarray\u001b[0m\u001b[0;34m(\u001b[0m\u001b[0mimageio_imread\u001b[0m\u001b[0;34m(\u001b[0m\u001b[0;34m*\u001b[0m\u001b[0margs\u001b[0m\u001b[0;34m,\u001b[0m \u001b[0;34m**\u001b[0m\u001b[0mkwargs\u001b[0m\u001b[0;34m)\u001b[0m\u001b[0;34m)\u001b[0m\u001b[0;34m\u001b[0m\u001b[0;34m\u001b[0m\u001b[0m\n\u001b[0m",
            "\u001b[0;32m/usr/local/lib/python3.6/dist-packages/imageio/core/functions.py\u001b[0m in \u001b[0;36mimread\u001b[0;34m(uri, format, **kwargs)\u001b[0m\n\u001b[1;32m    219\u001b[0m \u001b[0;34m\u001b[0m\u001b[0m\n\u001b[1;32m    220\u001b[0m     \u001b[0;31m# Get reader and read first\u001b[0m\u001b[0;34m\u001b[0m\u001b[0;34m\u001b[0m\u001b[0;34m\u001b[0m\u001b[0m\n\u001b[0;32m--> 221\u001b[0;31m     \u001b[0mreader\u001b[0m \u001b[0;34m=\u001b[0m \u001b[0mread\u001b[0m\u001b[0;34m(\u001b[0m\u001b[0muri\u001b[0m\u001b[0;34m,\u001b[0m \u001b[0mformat\u001b[0m\u001b[0;34m,\u001b[0m \u001b[0;34m\"i\"\u001b[0m\u001b[0;34m,\u001b[0m \u001b[0;34m**\u001b[0m\u001b[0mkwargs\u001b[0m\u001b[0;34m)\u001b[0m\u001b[0;34m\u001b[0m\u001b[0;34m\u001b[0m\u001b[0m\n\u001b[0m\u001b[1;32m    222\u001b[0m     \u001b[0;32mwith\u001b[0m \u001b[0mreader\u001b[0m\u001b[0;34m:\u001b[0m\u001b[0;34m\u001b[0m\u001b[0;34m\u001b[0m\u001b[0m\n\u001b[1;32m    223\u001b[0m         \u001b[0;32mreturn\u001b[0m \u001b[0mreader\u001b[0m\u001b[0;34m.\u001b[0m\u001b[0mget_data\u001b[0m\u001b[0;34m(\u001b[0m\u001b[0;36m0\u001b[0m\u001b[0;34m)\u001b[0m\u001b[0;34m\u001b[0m\u001b[0;34m\u001b[0m\u001b[0m\n",
            "\u001b[0;32m/usr/local/lib/python3.6/dist-packages/imageio/core/functions.py\u001b[0m in \u001b[0;36mget_reader\u001b[0;34m(uri, format, mode, **kwargs)\u001b[0m\n\u001b[1;32m    128\u001b[0m \u001b[0;34m\u001b[0m\u001b[0m\n\u001b[1;32m    129\u001b[0m     \u001b[0;31m# Create request object\u001b[0m\u001b[0;34m\u001b[0m\u001b[0;34m\u001b[0m\u001b[0;34m\u001b[0m\u001b[0m\n\u001b[0;32m--> 130\u001b[0;31m     \u001b[0mrequest\u001b[0m \u001b[0;34m=\u001b[0m \u001b[0mRequest\u001b[0m\u001b[0;34m(\u001b[0m\u001b[0muri\u001b[0m\u001b[0;34m,\u001b[0m \u001b[0;34m\"r\"\u001b[0m \u001b[0;34m+\u001b[0m \u001b[0mmode\u001b[0m\u001b[0;34m,\u001b[0m \u001b[0;34m**\u001b[0m\u001b[0mkwargs\u001b[0m\u001b[0;34m)\u001b[0m\u001b[0;34m\u001b[0m\u001b[0;34m\u001b[0m\u001b[0m\n\u001b[0m\u001b[1;32m    131\u001b[0m \u001b[0;34m\u001b[0m\u001b[0m\n\u001b[1;32m    132\u001b[0m     \u001b[0;31m# Get format\u001b[0m\u001b[0;34m\u001b[0m\u001b[0;34m\u001b[0m\u001b[0;34m\u001b[0m\u001b[0m\n",
            "\u001b[0;32m/usr/local/lib/python3.6/dist-packages/imageio/core/request.py\u001b[0m in \u001b[0;36m__init__\u001b[0;34m(self, uri, mode, **kwargs)\u001b[0m\n\u001b[1;32m    123\u001b[0m \u001b[0;34m\u001b[0m\u001b[0m\n\u001b[1;32m    124\u001b[0m         \u001b[0;31m# Parse what was given\u001b[0m\u001b[0;34m\u001b[0m\u001b[0;34m\u001b[0m\u001b[0;34m\u001b[0m\u001b[0m\n\u001b[0;32m--> 125\u001b[0;31m         \u001b[0mself\u001b[0m\u001b[0;34m.\u001b[0m\u001b[0m_parse_uri\u001b[0m\u001b[0;34m(\u001b[0m\u001b[0muri\u001b[0m\u001b[0;34m)\u001b[0m\u001b[0;34m\u001b[0m\u001b[0;34m\u001b[0m\u001b[0m\n\u001b[0m\u001b[1;32m    126\u001b[0m \u001b[0;34m\u001b[0m\u001b[0m\n\u001b[1;32m    127\u001b[0m         \u001b[0;31m# Set extension\u001b[0m\u001b[0;34m\u001b[0m\u001b[0;34m\u001b[0m\u001b[0;34m\u001b[0m\u001b[0m\n",
            "\u001b[0;32m/usr/local/lib/python3.6/dist-packages/imageio/core/request.py\u001b[0m in \u001b[0;36m_parse_uri\u001b[0;34m(self, uri)\u001b[0m\n\u001b[1;32m    271\u001b[0m                 \u001b[0;31m# Reading: check that the file exists (but is allowed a dir)\u001b[0m\u001b[0;34m\u001b[0m\u001b[0;34m\u001b[0m\u001b[0;34m\u001b[0m\u001b[0m\n\u001b[1;32m    272\u001b[0m                 \u001b[0;32mif\u001b[0m \u001b[0;32mnot\u001b[0m \u001b[0mos\u001b[0m\u001b[0;34m.\u001b[0m\u001b[0mpath\u001b[0m\u001b[0;34m.\u001b[0m\u001b[0mexists\u001b[0m\u001b[0;34m(\u001b[0m\u001b[0mfn\u001b[0m\u001b[0;34m)\u001b[0m\u001b[0;34m:\u001b[0m\u001b[0;34m\u001b[0m\u001b[0;34m\u001b[0m\u001b[0m\n\u001b[0;32m--> 273\u001b[0;31m                     \u001b[0;32mraise\u001b[0m \u001b[0mFileNotFoundError\u001b[0m\u001b[0;34m(\u001b[0m\u001b[0;34m\"No such file: '%s'\"\u001b[0m \u001b[0;34m%\u001b[0m \u001b[0mfn\u001b[0m\u001b[0;34m)\u001b[0m\u001b[0;34m\u001b[0m\u001b[0;34m\u001b[0m\u001b[0m\n\u001b[0m\u001b[1;32m    274\u001b[0m             \u001b[0;32melse\u001b[0m\u001b[0;34m:\u001b[0m\u001b[0;34m\u001b[0m\u001b[0;34m\u001b[0m\u001b[0m\n\u001b[1;32m    275\u001b[0m                 \u001b[0;31m# Writing: check that the directory to write to does exist\u001b[0m\u001b[0;34m\u001b[0m\u001b[0;34m\u001b[0m\u001b[0;34m\u001b[0m\u001b[0m\n",
            "\u001b[0;31mFileNotFoundError\u001b[0m: No such file: '/content/5217.jpg'"
          ]
        }
      ]
    },
    {
      "cell_type": "markdown",
      "metadata": {
        "id": "PVGWBSZw4acY"
      },
      "source": [
        "In the steps above, you create a standardized  dataset `x_all` that stores all observations in the dataset, and `y_all` that stores all the corresponding elements in the dataset. To train a model, we need to `slit` the dataset into a train and test set. We can do that using the `train_test_split` method of `sklearn` library as follows :\n",
        "\n",
        "```python \n",
        "(X_train, X_test, y_train, y_test) = train_test_split(x_all, y_all, test_size=0.25, random_state=42)\n",
        "```\n",
        "then to store the dataset for further processing, we can use the `save` method provided by numpy as follows: \n",
        "\n",
        "```python\n",
        "dataset = ((X_train, y_train), (X_test, y_test))\n",
        "\n",
        "# saves data in a file CatDog_preprocessed.npy, under folder sample_data.\n",
        "np.save('sample_data/CatsDog_preprocessed',dataset)\n",
        "```\n",
        "\n",
        "Subsequently, we can load the data in a format we can use in a network; using the following code:\n",
        "```python\n",
        "(X_train, y_train), (X_test, y_test) = np.load(\"sample_data/CatsDog_preprocessed.npy\",allow_pickle=True)\n",
        "\n",
        "```\n",
        "\n",
        "**Task 3.2:** Use the sample code above to a) split the `x_all` and `y_all` dataset into a `train` and `test` set. Save the resulting slit into a tuple format (similar to the format the MNIST dataset is stored). "
      ]
    },
    {
      "cell_type": "code",
      "metadata": {
        "id": "e3b_Szi-6xxE"
      },
      "source": [
        "#\n",
        "# Task 3.2: Implement the task 3.2 \n",
        "#\n",
        "(X_train, X_test, y_train, y_test) = train_test_split(x_all, y_all, test_size=0.25, random_state=42)\n",
        "\n",
        "dataset = ((X_train, y_train), (X_test, y_test))\n",
        "# saves data in a file CatDog_preprocessed.npy, under folder sample_data.\n",
        "np.save('sample_data/CatsDog_preprocessed',dataset)\n",
        "\n",
        "(X_train, y_train), (X_test, y_test) = np.load(\"sample_data/CatsDog_preprocessed.npy\",allow_pickle=True)"
      ],
      "execution_count": null,
      "outputs": []
    },
    {
      "cell_type": "markdown",
      "metadata": {
        "id": "CmL-545R64hd"
      },
      "source": [
        "# Exercise 4\n",
        "\n",
        "Build a convolutional neural network (CNN) to classify images to either `cats` or `dogs` using the Microsoft dataset. Report the network performance and apply the network on the test set. Use as many cells as necessary.\n"
      ]
    },
    {
      "cell_type": "code",
      "metadata": {
        "id": "3bxFJK2v7gwI",
        "outputId": "01efbb85-4341-4eb5-f987-4ef28d6f9e00",
        "colab": {
          "base_uri": "https://localhost:8080/",
          "height": 354
        }
      },
      "source": [
        "#\n",
        "# Implement exercise 4; use additional cells as necessary. \n",
        "#\n",
        "import tensorflow.keras \n",
        "from tensorflow.keras.models import Sequential \n",
        "from tensorflow.keras.layers import Dense, Flatten, Conv2D, MaxPool2D, Dropout\n",
        "import time\n",
        "\n",
        "model= Sequential() \n",
        "\n",
        "input_shape = X_train[0].shape\n",
        "\n",
        "model.add(Conv2D(32,(3,3),activation='relu',input_shape=input_shape))\n",
        "model.add(MaxPool2D(pool_size=(2,2)))\n",
        "model.add(Dropout(0.5))\n",
        "model.add(Conv2D(64,(3,3),activation='relu'))\n",
        "model.add(MaxPool2D(pool_size=(2,2)))\n",
        "model.add(Dropout(0.5))\n",
        "model.add(Flatten())\n",
        "model.add(Dense(32,activation='relu'))\n",
        "model.add(Dropout(0.5))\n",
        "model.add(Dense(10,activation='softmax'))\n",
        "\n",
        "\n",
        "history = model.compile(optimizer='adam',\n",
        "             loss = 'categorical_crossentropy',\n",
        "             metrics = 'accuracy')\n",
        "\n",
        "model.fit(X_train, y_train, epochs = 5)\n",
        "\n",
        "prob_model = tensorflow.keras.Sequential([model, \n",
        "                                         tensorflow.keras.layers.Softmax()])\n",
        "predictions = prob_model.predict(X_train)\n",
        "print(predictions)\n",
        "test_loss, test_acc = model.evaluate(X_train,  y_train, verbose=2)\n",
        "\n",
        "from sklearn.metrics import classification_report\n",
        "test_loss, test_acc = model.evaluate(X_train,  y_train, verbose=2)\n"
      ],
      "execution_count": 42,
      "outputs": [
        {
          "output_type": "stream",
          "text": [
            "Epoch 1/5\n",
            "1875/1875 [==============================] - 56s 30ms/step - loss: 0.6148 - accuracy: 0.7958\n",
            "Epoch 2/5\n",
            "1875/1875 [==============================] - 59s 31ms/step - loss: 0.2998 - accuracy: 0.9047\n",
            "Epoch 3/5\n",
            "1875/1875 [==============================] - 56s 30ms/step - loss: 0.2487 - accuracy: 0.9215\n",
            "Epoch 4/5\n",
            "1875/1875 [==============================] - 58s 31ms/step - loss: 0.2217 - accuracy: 0.9285\n",
            "Epoch 5/5\n",
            "1875/1875 [==============================] - 56s 30ms/step - loss: 0.2103 - accuracy: 0.9321\n",
            "[[0.08549242 0.08549243 0.08549243 ... 0.08549254 0.08549482 0.08558634]\n",
            " [0.23196924 0.08533674 0.08533674 ... 0.08533674 0.08533676 0.08533675]\n",
            " [0.08533978 0.08533982 0.08533978 ... 0.08533987 0.08533978 0.08536038]\n",
            " ...\n",
            " [0.08533709 0.08533709 0.08533709 ... 0.08533709 0.08533709 0.08533941]\n",
            " [0.08533678 0.08533678 0.08533678 ... 0.08533678 0.08533682 0.08533678]\n",
            " [0.08535733 0.08535606 0.08537199 ... 0.0853565  0.23166348 0.0854685 ]]\n",
            "1875/1875 - 17s - loss: 0.0415 - accuracy: 0.9878\n",
            "1875/1875 - 16s - loss: 0.0415 - accuracy: 0.9878\n"
          ],
          "name": "stdout"
        }
      ]
    },
    {
      "cell_type": "markdown",
      "metadata": {
        "id": "80gXdanCgZ2v"
      },
      "source": [
        "Copyright Statement: Copyright © 2020 Christoforou. The materials provided by the instructor of this course, including this notebook, are for the use of the students enrolled in the course. Materials are presented in an educational context for personal use and study and should not be shared, distributed, disseminated or sold in print — or digitally — outside the course without permission. You may not, nor may you knowingly allow others to reproduce or distribute lecture notes, course materials as well as any of their derivatives without the instructor's express written consent."
      ]
    },
    {
      "cell_type": "code",
      "metadata": {
        "id": "9k78G2GRgcnf"
      },
      "source": [
        "Conv2D()"
      ],
      "execution_count": null,
      "outputs": []
    }
  ]
}